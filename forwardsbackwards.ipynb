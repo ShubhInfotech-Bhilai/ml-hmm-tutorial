{
 "cells": [
  {
   "cell_type": "markdown",
   "metadata": {},
   "source": [
    "## Occasionally dishonest casino\n",
    "First, we are trying to generate data for the example of the occasionally dishonest casino (see Murphy 17.4). The idea behind the example is that die rolls are generated from a global state, which is either **fair** (each die face is equally likely) or **loaded** (one die face, here 6, has a higher probability than the others). Below the transition diagram is drawn, showing the transition probabilities of the global states along arrows, and individual die roll probabilities of each state inside the box. Let's implement a function that returns rolls as well as the die state for given sequence lengths.\n",
    "\n",
    "<img src=\"img/casino.png\" width=\"400\">"
   ]
  },
  {
   "cell_type": "code",
   "execution_count": 72,
   "metadata": {},
   "outputs": [],
   "source": [
    "import numpy as np\n",
    "np.random.seed(0)\n",
    "\n",
    "### defintions/parameters\n",
    "die_states = ['F', 'L']                                    # hidden state (F is fair, L is loaded)\n",
    "faces = [1, 2, 3, 4, 5, 6]                                 # observable state space\n",
    "obsModel = np.array([[1/6, 1/6, 1/6, 1/6, 1/6, 1/6],\n",
    "                    [1/13, 1/13, 1/13, 1/13, 1/13, 8/13]]) # observable state probabilities for given hidden state \n",
    "transition_matrix = np.array([[0.99, 0.01],[0.01, 0.99]])   # hidden state transition matrix\n",
    "\n",
    "### function that returns observed (rolls) and hidden states (die) for given sequence lengths\n",
    "def rolling_dice(n):\n",
    "    dice = np.zeros(n, dtype=str)\n",
    "    rolls = np.zeros(n, dtype=np.int32)\n",
    "    # Generate random initial hidden state\n",
    "    start_rv = np.random.rand()\n",
    "    if start_rv <= 0.5: # initial hidden states are equally likely\n",
    "        die = 0\n",
    "    else:\n",
    "        die = 1\n",
    "    # Roll the dice for n times\n",
    "    for i in range(n):\n",
    "        dice[i] = die_states[die]\n",
    "        rolls[i] = np.random.choice(faces, p=obsModel[die])\n",
    "        trans_rv = np.random.rand()\n",
    "        if trans_rv > transition_matrix[die][die]:\n",
    "            die ^= 1\n",
    "    return rolls, dice"
   ]
  },
  {
   "cell_type": "markdown",
   "metadata": {},
   "source": [
    "### Generating data\n",
    "Now let's generate data for a sequence length of $T=300$."
   ]
  },
  {
   "cell_type": "code",
   "execution_count": 73,
   "metadata": {},
   "outputs": [],
   "source": [
    "from sklearn.preprocessing import OneHotEncoder\n",
    "T = 10000\n",
    "rolls, dice = rolling_dice(T)\n",
    "### this turns the rolls into a six-dimensional binary vector\n",
    "enc = OneHotEncoder()\n",
    "rolls_onehot = enc.fit_transform(rolls.reshape(-1, 1)).toarray() "
   ]
  },
  {
   "cell_type": "markdown",
   "metadata": {},
   "source": [
    "### Forwards algorithm"
   ]
  },
  {
   "cell_type": "code",
   "execution_count": 74,
   "metadata": {},
   "outputs": [],
   "source": [
    "from itertools import compress\n",
    "class HMM:\n",
    "    def __init__(self, pi_0, A, B, data):\n",
    "        self.pi = pi_0\n",
    "        self.A = np.array(A)\n",
    "        self.B = B\n",
    "        self.data = data\n",
    "        self.N = len(self.pi)\n",
    "        self.T, self.M = self.data.shape\n",
    "        self.Z = np.zeros(self.T, dtype=np.int)\n",
    "        self.alpha = np.zeros((self.T, self.N))\n",
    "        self.beta = np.zeros((self.T, self.N))\n",
    "        self.delta = np.zeros((self.T, self.N))\n",
    "\n",
    "    def normalize(self, a):\n",
    "        return a / np.sum(a)\n",
    "\n",
    "\n",
    "    def find_B_w_O(self, t):\n",
    "        result = []\n",
    "        for i in range(self.N):\n",
    "            result.append(list(compress(self.B[i], self.data[t]))[0])\n",
    "        return result"
   ]
  },
  {
   "cell_type": "code",
   "execution_count": 75,
   "metadata": {},
   "outputs": [],
   "source": [
    "class HMMForwards(HMM):    \n",
    "    def __init__(self, *args):\n",
    "        HMM.__init__(self, *args)\n",
    "    \n",
    "    def forwards(self):\n",
    "        # p(q(t)|O(1), ...., O(t))\n",
    "        unnormalized = np.multiply(self.pi, self.find_B_w_O(0))\n",
    "        self.alpha[0] = self.normalize(unnormalized)\n",
    "        self.Z[0] = np.sum(unnormalized)\n",
    "        logZ = np.log(self.Z[0] + 1e-7)\n",
    "\n",
    "        for t in range(1, self.T):\n",
    "            unnormalized = np.multiply(np.dot(self.alpha[t-1], self.A), self.find_B_w_O(t))\n",
    "            self.alpha[t] = self.normalize(unnormalized)\n",
    "            self.Z[t] = np.sum(unnormalized)\n",
    "            logZ += np.log(self.Z[t] + 1e-7)\n",
    "\n",
    "        return self.alpha, self.Z, logZ"
   ]
  },
  {
   "cell_type": "markdown",
   "metadata": {},
   "source": [
    "### Define Backwards method"
   ]
  },
  {
   "cell_type": "code",
   "execution_count": 77,
   "metadata": {},
   "outputs": [],
   "source": []
  }
 ],
 "metadata": {
  "kernelspec": {
   "display_name": "Python 3",
   "language": "python",
   "name": "python3"
  },
  "language_info": {
   "codemirror_mode": {
    "name": "ipython",
    "version": 3
   },
   "file_extension": ".py",
   "mimetype": "text/x-python",
   "name": "python",
   "nbconvert_exporter": "python",
   "pygments_lexer": "ipython3",
   "version": "3.6.5"
  }
 },
 "nbformat": 4,
 "nbformat_minor": 2
}
