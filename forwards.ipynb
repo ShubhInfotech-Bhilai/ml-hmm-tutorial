{
 "cells": [
  {
   "cell_type": "markdown",
   "metadata": {},
   "source": [
    "## Occasionally dishonest casino\n",
    "First, we are trying to generate data for the example of the occasionally dishonest casino (see Murphy 17.4). The idea behind the example is that die rolls are generated from a global state, which is either **fair** (each die face is equally likely) or **loaded** (one die face, here 6, has a higher probability than the others). Below the transition diagram is drawn, showing the transition probabilities of the global states along arrows, and individual die roll probabilities of each state inside the box. Let's implement a function that returns rolls as well as the die state for given sequence lengths.\n",
    "\n",
    "<img src=\"img/casino.png\" width=\"400\">"
   ]
  },
  {
   "cell_type": "code",
   "execution_count": 2,
   "metadata": {},
   "outputs": [],
   "source": [
    "import numpy as np\n",
    "np.random.seed(0)\n",
    "\n",
    "### defintions/parameters\n",
    "\"\"\"\n",
    "PUT DEFINITIONS FOR OBSERVABLE AND HIDDEN STATES AS WELL AS EMISSION AND TRANSITION PROBABILITIES HERE\n",
    "\"\"\"\n",
    "\n",
    "### function that returns observed (rolls) and hidden states (dice) for given sequence lengths\n",
    "def rolling_dice(n):\n",
    "    dice = np.zeros(n, dtype=str)\n",
    "    rolls = np.zeros(n, dtype=np.int32)\n",
    "    \"\"\"\n",
    "    PUT YOUR FUNCTION HERE\n",
    "    \"\"\"\n",
    "    return rolls, dice"
   ]
  },
  {
   "cell_type": "code",
   "execution_count": 4,
   "metadata": {},
   "outputs": [
    {
     "data": {
      "text/plain": [
       "'\\nPUT CODE HERE\\n'"
      ]
     },
     "execution_count": 4,
     "metadata": {},
     "output_type": "execute_result"
    }
   ],
   "source": [
    "### generate data of sequence length 300 \n",
    "T = 300\n",
    "\"\"\"\n",
    "PUT CODE HERE\n",
    "\"\"\""
   ]
  },
  {
   "cell_type": "code",
   "execution_count": 67,
   "metadata": {},
   "outputs": [],
   "source": [
    "### forward algorithm here\n",
    "def forward(pi, A, B, data):\n",
    "    pass"
   ]
  },
  {
   "cell_type": "code",
   "execution_count": null,
   "metadata": {},
   "outputs": [],
   "source": []
  }
 ],
 "metadata": {
  "kernelspec": {
   "display_name": "Python 3",
   "language": "python",
   "name": "python3"
  },
  "language_info": {
   "codemirror_mode": {
    "name": "ipython",
    "version": 3
   },
   "file_extension": ".py",
   "mimetype": "text/x-python",
   "name": "python",
   "nbconvert_exporter": "python",
   "pygments_lexer": "ipython3",
   "version": "3.6.5"
  }
 },
 "nbformat": 4,
 "nbformat_minor": 2
}
